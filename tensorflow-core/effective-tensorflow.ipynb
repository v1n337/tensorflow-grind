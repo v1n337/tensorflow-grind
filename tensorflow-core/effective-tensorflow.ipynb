{
 "cells": [
  {
   "cell_type": "markdown",
   "metadata": {},
   "source": [
    "# Effective Tensorflow"
   ]
  },
  {
   "cell_type": "markdown",
   "metadata": {},
   "source": [
    "## Simple matrix multiplication: NumPy vs Tensorflow\n",
    "\n",
    "The advantage of Tensorflow is symbolic computation, which allows an expression defined by a Tensorflow computation graph to be differentiable"
   ]
  },
  {
   "cell_type": "code",
   "execution_count": 7,
   "metadata": {},
   "outputs": [
    {
     "name": "stdout",
     "output_type": "stream",
     "text": [
      "[[ -2.16456287e+00  -1.44285017e+00  -2.99715754e-01   3.48153641e+00\n",
      "   -1.94346173e+00  -3.09092947e+00   1.64558426e+00  -1.76252752e+00\n",
      "    2.16558271e+00   1.62690977e+00]\n",
      " [  2.53272692e+00   2.49731410e+00   1.87123033e+00  -4.46958705e+00\n",
      "    3.83583418e+00   3.27200104e+00  -8.04399034e-01   2.90825844e+00\n",
      "   -4.95005719e+00  -2.51558639e+00]\n",
      " [ -2.71238707e+00  -4.86442455e+00  -2.62460198e+00   3.72012637e+00\n",
      "   -4.28801763e-01  -4.02064606e+00  -1.98768864e+00  -1.55334755e+00\n",
      "    2.13853345e+00   1.09560808e+00]\n",
      " [ -3.28958812e+00   2.76527101e+00   2.90625067e+00  -2.65932486e+00\n",
      "    1.18969269e+00  -6.59790861e-01  -2.65561173e+00  -1.24254740e+00\n",
      "   -1.65011851e+00  -1.27040644e+00]\n",
      " [  3.42804943e+00  -1.13727003e+00  -2.29893831e+00  -2.01597416e+00\n",
      "   -8.67952163e-03   3.55234006e-01  -4.50622665e-01   4.59930798e+00\n",
      "    2.74777361e-01  -3.05394516e+00]\n",
      " [  9.18057616e-01  -1.58276581e+00  -5.69546610e-01  -1.68016216e+00\n",
      "    2.35321501e+00  -6.23536846e+00  -4.22265871e-03   2.69258423e+00\n",
      "   -2.57674798e+00  -3.66134812e+00]\n",
      " [ -2.44641580e+00   2.31081216e+00   2.18621621e+00   4.64942138e+00\n",
      "   -4.41647675e+00   2.79729236e+00   7.29409274e-01  -3.15878480e+00\n",
      "    7.57124861e-01  -8.57210791e-02]\n",
      " [ -6.79371485e-01   6.15684203e-02   2.43374035e+00   4.70660362e+00\n",
      "   -1.40603399e+00   4.76771910e+00   9.14533451e-01   8.10568044e-01\n",
      "   -2.86688220e+00  -5.32378479e+00]\n",
      " [  2.81490568e+00  -9.45731370e-01  -2.98398096e+00   4.09754909e+00\n",
      "   -2.60303931e+00  -2.55869931e-02   1.82203639e+00   2.65885949e+00\n",
      "   -3.97809932e+00  -7.35712051e+00]\n",
      " [ -5.27600970e+00  -1.88499610e+00   3.32759551e+00   6.91862656e+00\n",
      "   -4.68630886e+00   3.09147131e+00  -2.58063548e+00  -3.58760151e+00\n",
      "    3.56373023e+00   2.93072385e-01]]\n"
     ]
    }
   ],
   "source": [
    "import numpy as np\n",
    "\n",
    "x = np.random.normal(size=[10, 10])\n",
    "y = np.random.normal(size=[10, 10])\n",
    "z = np.dot(x, y)\n",
    "\n",
    "print(z)"
   ]
  },
  {
   "cell_type": "code",
   "execution_count": 12,
   "metadata": {},
   "outputs": [
    {
     "name": "stdout",
     "output_type": "stream",
     "text": [
      "[[  4.7909441    0.35963076  10.59105492   1.49690366  -1.81629026\n",
      "   -5.93234968  -2.64407253  -1.51363993   4.98218632  -1.3459971 ]\n",
      " [ -6.98808146  -1.47395051  -2.97839475  -3.79232693   0.78939861\n",
      "   -0.5160982   -0.21278071   3.19511318  -2.06910324   2.4040575 ]\n",
      " [ -0.15771163   0.41416955   0.39010781  -3.49079752   1.77790666\n",
      "   -7.60135365  -0.0686495    4.89615822   2.75216556  -2.06411958]\n",
      " [ -3.26897216  -1.79609311   3.89264035  -0.42066425  -1.96768868\n",
      "   -2.86660099   0.95207238   6.12801456   0.25666696  -1.85748518]\n",
      " [ -0.58689284   2.64159966  -3.47270584  -3.56235409   4.52439547\n",
      "   -2.98268032  -0.1618551    0.79063153   0.66456133   0.70937055]\n",
      " [  0.92249763   0.21077514   0.28120458  -0.99887955   4.05849171\n",
      "    1.11329472  -0.10294008   0.61020893  -0.96378118  -0.06931731]\n",
      " [  0.02302834  -2.31434059  -0.4365381   -1.56551552  -4.46222258\n",
      "    3.66885948   1.2518121   -3.36612821   0.79187256   1.5127213 ]\n",
      " [  9.23485756   5.15056419  -5.48129368   3.83998919  -1.15527511\n",
      "    1.9620204    4.09682131  -6.1191268    1.08147264   1.12394321]\n",
      " [  7.48145819   0.38029158   8.15991211   3.39815617  -1.68812537\n",
      "   -0.52442598  -2.75751638  -4.30091858   2.29194999  -2.60266328]\n",
      " [ -4.14292097  -4.66019917   4.08084726   0.90230513   0.90296316\n",
      "    6.1380372   -4.96134281  -2.10796762  -3.03607702  -0.12355244]]\n"
     ]
    }
   ],
   "source": [
    "import tensorflow as tf\n",
    "\n",
    "tf.reset_default_graph()  # Used to clear the symbolic graph before defining new nodes\n",
    "\n",
    "x = tf.random_normal([10, 10])\n",
    "y = tf.random_normal([10, 10])\n",
    "z = tf.matmul(x, y)  # z is the left-hand side of the expression, which needs a TF session to evaluate\n",
    "\n",
    "sess = tf.Session()\n",
    "z_val = sess.run(z)\n",
    "\n",
    "print(z_val)"
   ]
  },
  {
   "cell_type": "code",
   "execution_count": 11,
   "metadata": {},
   "outputs": [
    {
     "data": {
      "text/plain": [
       "<tf.Tensor 'MatMul:0' shape=(10, 10) dtype=float32>"
      ]
     },
     "execution_count": 11,
     "metadata": {},
     "output_type": "execute_result"
    }
   ],
   "source": [
    "z"
   ]
  },
  {
   "cell_type": "markdown",
   "metadata": {},
   "source": [
    "## Simple Regression Example"
   ]
  },
  {
   "cell_type": "code",
   "execution_count": 43,
   "metadata": {},
   "outputs": [
    {
     "name": "stdout",
     "output_type": "stream",
     "text": [
      "[[  5.00061035e+00]\n",
      " [  7.49951578e-05]\n",
      " [  2.96400547e+00]]\n"
     ]
    }
   ],
   "source": [
    "tf.reset_default_graph()  # Used to clear the symbolic graph before defining new nodes\n",
    "\n",
    "# Placeholders are used to feed values from python to Tensorflow ops. We define\n",
    "# two placeholders, one for input feature x, and one for output y.\n",
    "x = tf.placeholder(tf.float32)\n",
    "y = tf.placeholder(tf.float32)\n",
    "\n",
    "# Assuming we know that the desired function is a polynomial of 2nd degree, we\n",
    "# allocate a vector of size 3 to hold the coefficients. The variable will be\n",
    "# automatically initialized with random noise.\n",
    "w = tf.get_variable(\"w\", shape=[3, 1])\n",
    "\n",
    "# We define yhat to be our estimate of y.\n",
    "f = tf.stack([tf.square(x), x, tf.ones_like(x)], 1)\n",
    "yhat = tf.squeeze(tf.matmul(f, w), 1)\n",
    "\n",
    "# The loss is defined to be the l2 distance between our estimate of y and its\n",
    "# true value. We also added a shrinkage term, to ensure the resulting weights\n",
    "# would be small.\n",
    "loss = tf.nn.l2_loss(yhat - y) + 0.1 * tf.nn.l2_loss(w)\n",
    "\n",
    "# We use the Adam optimizer with learning rate set to 0.1 to minimize the loss.\n",
    "train_op = tf.train.AdamOptimizer(0.1).minimize(loss)\n",
    "\n",
    "def generate_data():\n",
    "    x_val = np.random.uniform(-10.0, 10.0, size=100)\n",
    "    y_val = 5 * np.square(x_val) + 3\n",
    "    return x_val, y_val\n",
    "\n",
    "sess = tf.Session()\n",
    "# Since we are using variables we first need to initialize them.\n",
    "sess.run(tf.global_variables_initializer())\n",
    "for _ in range(1000):\n",
    "    x_val, y_val = generate_data()\n",
    "    _, loss_val = sess.run([train_op, loss], {x: x_val, y: y_val})\n",
    "#     print(loss_val)\n",
    "\n",
    "print(sess.run(w))"
   ]
  },
  {
   "cell_type": "code",
   "execution_count": 32,
   "metadata": {},
   "outputs": [
    {
     "data": {
      "text/plain": [
       "(<tf.Tensor 'stack:0' shape=<unknown> dtype=float32>,\n",
       " <tf.Variable 'w:0' shape=(3, 1) dtype=float32_ref>,\n",
       " <tf.Tensor 'Squeeze:0' shape=(?,) dtype=float32>)"
      ]
     },
     "execution_count": 32,
     "metadata": {},
     "output_type": "execute_result"
    }
   ],
   "source": [
    "f, w, yhat"
   ]
  },
  {
   "cell_type": "markdown",
   "metadata": {},
   "source": [
    "## Static and Dynamic Shapes"
   ]
  },
  {
   "cell_type": "code",
   "execution_count": 33,
   "metadata": {
    "collapsed": true
   },
   "outputs": [],
   "source": [
    "tf.reset_default_graph()  # Used to clear the symbolic graph before defining new nodes"
   ]
  },
  {
   "cell_type": "code",
   "execution_count": 34,
   "metadata": {
    "collapsed": true
   },
   "outputs": [],
   "source": [
    "a = tf.placeholder(tf.float32, [None, 128])"
   ]
  },
  {
   "cell_type": "code",
   "execution_count": 35,
   "metadata": {},
   "outputs": [
    {
     "data": {
      "text/plain": [
       "<tf.Tensor 'Placeholder:0' shape=(?, 128) dtype=float32>"
      ]
     },
     "execution_count": 35,
     "metadata": {},
     "output_type": "execute_result"
    }
   ],
   "source": [
    "a"
   ]
  },
  {
   "cell_type": "code",
   "execution_count": 37,
   "metadata": {},
   "outputs": [
    {
     "data": {
      "text/plain": [
       "TensorShape([Dimension(None), Dimension(128)])"
      ]
     },
     "execution_count": 37,
     "metadata": {},
     "output_type": "execute_result"
    }
   ],
   "source": [
    "static_shape = a.shape  # returns TensorShape([Dimension(None), Dimension(128)])\n",
    "static_shape"
   ]
  },
  {
   "cell_type": "code",
   "execution_count": 38,
   "metadata": {},
   "outputs": [
    {
     "data": {
      "text/plain": [
       "[None, 128]"
      ]
     },
     "execution_count": 38,
     "metadata": {},
     "output_type": "execute_result"
    }
   ],
   "source": [
    "static_shape = a.shape.as_list()  # returns [None, 128]\n",
    "static_shape"
   ]
  },
  {
   "cell_type": "code",
   "execution_count": null,
   "metadata": {
    "collapsed": true
   },
   "outputs": [],
   "source": []
  }
 ],
 "metadata": {
  "kernelspec": {
   "display_name": "Python 3",
   "language": "python",
   "name": "python3"
  },
  "language_info": {
   "codemirror_mode": {
    "name": "ipython",
    "version": 3
   },
   "file_extension": ".py",
   "mimetype": "text/x-python",
   "name": "python",
   "nbconvert_exporter": "python",
   "pygments_lexer": "ipython3",
   "version": "3.5.2"
  }
 },
 "nbformat": 4,
 "nbformat_minor": 2
}
