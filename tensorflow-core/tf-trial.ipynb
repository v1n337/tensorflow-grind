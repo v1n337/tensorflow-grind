{
 "cells": [
  {
   "cell_type": "code",
   "execution_count": null,
   "metadata": {
    "collapsed": true,
    "scrolled": true
   },
   "outputs": [],
   "source": [
    "import tensorflow as tf\n",
    "import numpy as np"
   ]
  },
  {
   "cell_type": "markdown",
   "metadata": {},
   "source": [
    "## Simple Math"
   ]
  },
  {
   "cell_type": "code",
   "execution_count": null,
   "metadata": {
    "collapsed": true,
    "scrolled": true
   },
   "outputs": [],
   "source": [
    "inputs = np.random.rand(100, 20)\n",
    "weights = np.random.rand(20, 1)"
   ]
  },
  {
   "cell_type": "code",
   "execution_count": null,
   "metadata": {
    "collapsed": true,
    "scrolled": true
   },
   "outputs": [],
   "source": [
    "graph_1 = tf.Graph()\n",
    "with graph_1.as_default():\n",
    "    x = tf.placeholder(dtype=tf.float64, name='x')\n",
    "    w = tf.placeholder(dtype=tf.float64, name='w')\n",
    "    y = tf.matmul(x, w)"
   ]
  },
  {
   "cell_type": "code",
   "execution_count": null,
   "metadata": {
    "collapsed": true,
    "scrolled": true
   },
   "outputs": [],
   "source": [
    "# tf.global_variables_initializer()\n",
    "with tf.Session(graph=graph_1) as sess:\n",
    "    y_val = sess.run(y, feed_dict={x: inputs, w: weights})"
   ]
  },
  {
   "cell_type": "code",
   "execution_count": null,
   "metadata": {
    "scrolled": true
   },
   "outputs": [],
   "source": [
    "y_val.shape"
   ]
  },
  {
   "cell_type": "markdown",
   "metadata": {
    "collapsed": true
   },
   "source": [
    "## LSTM Trials"
   ]
  },
  {
   "cell_type": "code",
   "execution_count": null,
   "metadata": {
    "scrolled": true
   },
   "outputs": [],
   "source": [
    "sequence_inputs = list()\n",
    "for i in range(100):\n",
    "    sequence_inputs.append(np.random.rand(20, 50))\n",
    "gold_value_array = np.random.rand(100, 1) * 10"
   ]
  },
  {
   "cell_type": "code",
   "execution_count": null,
   "metadata": {},
   "outputs": [],
   "source": [
    "gold_value_array.dtype, sequence_inputs[0].dtype"
   ]
  },
  {
   "cell_type": "code",
   "execution_count": null,
   "metadata": {
    "scrolled": true
   },
   "outputs": [],
   "source": [
    "graph_2 = tf.Graph()\n",
    "\n",
    "with graph_2.as_default():\n",
    "    weights = tf.Variable(dtype=tf.float64, name='weights',\n",
    "                          initial_value=tf.truncated_normal(shape=[128, 1], stddev=0.001, dtype=tf.float64))\n",
    "    biases = tf.Variable(dtype=tf.float64, name='weights', \n",
    "                         initial_value=tf.truncated_normal(shape=[1, 1], stddev=0.001, dtype=tf.float64))\n",
    "    num_lstm_units = 128\n",
    "    \n",
    "    inputs_series = tf.placeholder(dtype=tf.float64, name='inputs_series', shape=(100, 20, 50))\n",
    "    gold_values = tf.placeholder(dtype=tf.float64, name='gold_value')\n",
    "    \n",
    "    init_state = tf.zeros(shape=[100], dtype=tf.float64, name='init_state')\n",
    "    \n",
    "    lstm_1 = tf.contrib.rnn.BasicLSTMCell(num_lstm_units)\n",
    "    \n",
    "    states_series, current_state = \\\n",
    "        tf.nn.dynamic_rnn(lstm_1, inputs_series, init_state, dtype=tf.float64)\n",
    "    final_predictions = tf.matmul(current_state.h, weights) + biases\n",
    "    \n",
    "    cost = tf.losses.absolute_difference(final_predictions, gold_values)\n",
    "    optimizer = tf.train.AdamOptimizer(learning_rate=0.01).minimize(cost)"
   ]
  },
  {
   "cell_type": "code",
   "execution_count": null,
   "metadata": {},
   "outputs": [],
   "source": [
    "current_state.h.shape"
   ]
  },
  {
   "cell_type": "code",
   "execution_count": null,
   "metadata": {
    "scrolled": true
   },
   "outputs": [],
   "source": [
    "epoch_reporting_interval = 50\n",
    "\n",
    "with tf.Session(graph=graph_2) as sess:\n",
    "    sess.run(tf.global_variables_initializer())\n",
    "    \n",
    "    for i in range(1, 1001):\n",
    "        _, c = \\\n",
    "            sess.run([optimizer, cost], \n",
    "                feed_dict={\n",
    "                    inputs_series: sequence_inputs, \n",
    "                    gold_values: gold_value_array\n",
    "                }\n",
    "            )\n",
    "        \n",
    "        if (i % epoch_reporting_interval == 0):\n",
    "            print(\"Training epoch: \", i, \", Cost: \", c)\n",
    "            \n",
    "    final_predictions = \\\n",
    "        sess.run(\n",
    "            [final_predictions], \n",
    "            feed_dict={\n",
    "                inputs_series: sequence_inputs, \n",
    "                gold_values: gold_value_array\n",
    "            }\n",
    "        )"
   ]
  },
  {
   "cell_type": "code",
   "execution_count": null,
   "metadata": {
    "scrolled": true
   },
   "outputs": [],
   "source": [
    "final_predictions"
   ]
  },
  {
   "cell_type": "code",
   "execution_count": null,
   "metadata": {
    "collapsed": true
   },
   "outputs": [],
   "source": []
  }
 ],
 "metadata": {
  "kernelspec": {
   "display_name": "Python 3",
   "language": "python",
   "name": "python3"
  },
  "language_info": {
   "codemirror_mode": {
    "name": "ipython",
    "version": 3
   },
   "file_extension": ".py",
   "mimetype": "text/x-python",
   "name": "python",
   "nbconvert_exporter": "python",
   "pygments_lexer": "ipython3",
   "version": "3.5.2"
  }
 },
 "nbformat": 4,
 "nbformat_minor": 2
}
