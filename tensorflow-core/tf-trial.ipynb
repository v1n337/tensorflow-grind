{
 "cells": [
  {
   "cell_type": "code",
   "execution_count": null,
   "metadata": {
    "collapsed": true
   },
   "outputs": [],
   "source": [
    "import tensorflow as tf\n",
    "import numpy as np"
   ]
  },
  {
   "cell_type": "markdown",
   "metadata": {},
   "source": [
    "## Simple Math"
   ]
  },
  {
   "cell_type": "code",
   "execution_count": null,
   "metadata": {
    "collapsed": true
   },
   "outputs": [],
   "source": [
    "inputs = np.random.rand(100, 20)\n",
    "weights = np.random.rand(20, 1)"
   ]
  },
  {
   "cell_type": "code",
   "execution_count": null,
   "metadata": {
    "collapsed": true
   },
   "outputs": [],
   "source": [
    "graph_1 = tf.Graph()\n",
    "with graph_1.as_default():\n",
    "    x = tf.placeholder(dtype=tf.float64, name='x')\n",
    "    w = tf.placeholder(dtype=tf.float64, name='w')\n",
    "    y = tf.matmul(x, w)"
   ]
  },
  {
   "cell_type": "code",
   "execution_count": null,
   "metadata": {
    "collapsed": true
   },
   "outputs": [],
   "source": [
    "# tf.global_variables_initializer()\n",
    "with tf.Session(graph=graph_1) as sess:\n",
    "    y_val = sess.run(y, feed_dict={x: inputs, w: weights})"
   ]
  },
  {
   "cell_type": "code",
   "execution_count": null,
   "metadata": {},
   "outputs": [],
   "source": [
    "y_val.shape"
   ]
  },
  {
   "cell_type": "markdown",
   "metadata": {
    "collapsed": true
   },
   "source": [
    "## LSTM Trials"
   ]
  },
  {
   "cell_type": "code",
   "execution_count": null,
   "metadata": {
    "collapsed": true
   },
   "outputs": [],
   "source": [
    "sequence_inputs = list()\n",
    "for i in range(100):\n",
    "    sequence_inputs.append(np.random.rand(20, 50))\n",
    "\n",
    "# sequence_inputs = np.random.rand(100, 20, 50)"
   ]
  },
  {
   "cell_type": "code",
   "execution_count": null,
   "metadata": {},
   "outputs": [],
   "source": [
    "graph_2 = tf.Graph()\n",
    "\n",
    "with graph_2.as_default():\n",
    "    num_lstm_units = 128\n",
    "    inputs_series = tf.placeholder(dtype=tf.float64, name='inputs_series', shape=(100, 20, 50))\n",
    "    init_state = tf.zeros([100], tf.float64, name='init_state') \n",
    "#     init_state = tf.placeholder(dtype=tf.float64, name='init_state')\n",
    "    lstm_1 = tf.contrib.rnn.BasicLSTMCell(num_lstm_units)\n",
    "    \n",
    "    states_series, current_state = \\\n",
    "        tf.nn.dynamic_rnn(lstm_1, inputs_series, init_state, dtype=tf.float64)"
   ]
  },
  {
   "cell_type": "code",
   "execution_count": null,
   "metadata": {},
   "outputs": [],
   "source": [
    "with tf.Session(graph=graph_2) as sess:\n",
    "    sess.run(tf.global_variables_initializer())\n",
    "    states_series, current_state = sess.run([states_series, current_state], \n",
    "                                            feed_dict={inputs_series: sequence_inputs})"
   ]
  },
  {
   "cell_type": "code",
   "execution_count": null,
   "metadata": {},
   "outputs": [],
   "source": [
    "current_state.c.shape, current_state.h.shape"
   ]
  },
  {
   "cell_type": "code",
   "execution_count": null,
   "metadata": {},
   "outputs": [],
   "source": [
    "states_series.shape"
   ]
  },
  {
   "cell_type": "code",
   "execution_count": null,
   "metadata": {
    "collapsed": true
   },
   "outputs": [],
   "source": []
  }
 ],
 "metadata": {
  "kernelspec": {
   "display_name": "Python 3",
   "language": "python",
   "name": "python3"
  },
  "language_info": {
   "codemirror_mode": {
    "name": "ipython",
    "version": 3
   },
   "file_extension": ".py",
   "mimetype": "text/x-python",
   "name": "python",
   "nbconvert_exporter": "python",
   "pygments_lexer": "ipython3",
   "version": "3.5.2"
  }
 },
 "nbformat": 4,
 "nbformat_minor": 2
}
